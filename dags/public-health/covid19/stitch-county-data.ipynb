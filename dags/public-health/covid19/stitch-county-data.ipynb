{
 "cells": [
  {
   "cell_type": "markdown",
   "metadata": {},
   "source": [
    "# US county-level data\n",
    "* Get everything in shape from NYT\n",
    "* Then add in JHU for recent observations"
   ]
  },
  {
   "cell_type": "code",
   "execution_count": 1,
   "metadata": {},
   "outputs": [],
   "source": [
    "import pandas as pd\n",
    "import geopandas as gpd"
   ]
  },
  {
   "cell_type": "markdown",
   "metadata": {},
   "source": [
    "### Functions to be used"
   ]
  },
  {
   "cell_type": "code",
   "execution_count": 2,
   "metadata": {},
   "outputs": [],
   "source": [
    "def coerce_fips_integer(df):\n",
    "    def integrify(x):\n",
    "        return int(float(x)) if not pd.isna(x) else None\n",
    "\n",
    "    cols = [\n",
    "        \"fips\",\n",
    "    ]\n",
    "    \n",
    "    new_cols = {c: df[c].apply(integrify, convert_dtype=False) for c in cols}\n",
    "    \n",
    "    return df.assign(**new_cols)"
   ]
  },
  {
   "cell_type": "code",
   "execution_count": 3,
   "metadata": {},
   "outputs": [],
   "source": [
    "def correct_county_fips(row):\n",
    "    if len(str(row.fips)) == 5:\n",
    "        return str(row.fips)\n",
    "    elif row.fips is not None:\n",
    "        return \"0\" + str(row.fips)\n",
    "    elif row.fips is None:\n",
    "        return \"\""
   ]
  },
  {
   "cell_type": "markdown",
   "metadata": {},
   "source": [
    "## Use NYT for county-level time-series data"
   ]
  },
  {
   "cell_type": "code",
   "execution_count": null,
   "metadata": {},
   "outputs": [],
   "source": [
    "bucket_name = \"public-health-dashboard\"\n",
    "county = pd.read_csv(f\"s3://{bucket_name}/jhu_covid19/county_time_series_330.csv\")"
   ]
  },
  {
   "cell_type": "markdown",
   "metadata": {},
   "source": [
    "## JHU data that needs to be a DAG"
   ]
  },
  {
   "cell_type": "markdown",
   "metadata": {},
   "source": [
    "* Read in feature layer\n",
    "* Add date column\n",
    "* Apply clean_jhu_county function\n",
    "* Do upsert"
   ]
  },
  {
   "cell_type": "code",
   "execution_count": 18,
   "metadata": {},
   "outputs": [],
   "source": [
    "# First, we need to make sure our nyt_geog crosswalk is open\n",
    "NYT_330_COMMIT = \"99b30cbf4181e35bdcc814e2b29671f38d7860a7\"\n",
    "NYT_COUNTY_URL = (\n",
    "    f\"https://raw.githubusercontent.com/nytimes/covid-19-data/{NYT_330_COMMIT}/\"\n",
    "    \"us-counties.csv\"\n",
    ")\n",
    "county = pd.read_csv(NYT_COUNTY_URL)\n",
    "\n",
    "nyt_geog = county[county.fips.notna()][['fips', 'county', 'state']].drop_duplicates()\n",
    "\n",
    "nyt_geog = coerce_fips_integer(nyt_geog)\n",
    "nyt_geog[\"fips\"] = nyt_geog.apply(correct_county_fips, axis=1)"
   ]
  },
  {
   "cell_type": "code",
   "execution_count": null,
   "metadata": {},
   "outputs": [],
   "source": [
    "# Read in JHU feature layer in\n",
    "jhu = "
   ]
  },
  {
   "cell_type": "code",
   "execution_count": null,
   "metadata": {},
   "outputs": [],
   "source": [
    "def clean_jhu_county(df):\n",
    "    # Only keep certain columns and rename them to match NYT schema\n",
    "    keep_cols = [\n",
    "        \"Province_State\",\n",
    "        \"Country_Region\",\n",
    "        \"Lat\",\n",
    "        \"Long_\",\n",
    "        \"Confirmed\",\n",
    "        \"Deaths\",\n",
    "        \"FIPS\",\n",
    "        \"Incident_Rate\",\n",
    "        \"People_Tested\",\n",
    "        \"date\",\n",
    "    ]\n",
    "\n",
    "    df = df[keep_cols]\n",
    "\n",
    "    df.rename(\n",
    "        columns={\n",
    "            \"Confirmed\": \"cases\",\n",
    "            \"Deaths\": \"deaths\",\n",
    "            \"FIPS\": \"fips\",\n",
    "            \"Long_\": \"Lon\",\n",
    "            \"People_Tested\": \"people_tested\",\n",
    "            \"Incident_Rate\": \"incident_rate\",\n",
    "        },\n",
    "        inplace=True,\n",
    "    )\n",
    "\n",
    "    # Use FIPS to merge in NYT columns for county and state names\n",
    "    # There are some values with no FIPS, NYT calls these county = \"Unknown\"\n",
    "    df = pd.merge(df, nyt_geog, on=\"fips\", how=\"left\", validate=\"m:1\")\n",
    "\n",
    "    # Fix when FIPS is unknown, which wouldn't have merged in anything from nyt_geog\n",
    "    df[\"county\"] = df.apply(\n",
    "        lambda row: \"Unknown\" if row.fips is None else row.county, axis=1\n",
    "    )\n",
    "    df[\"state\"] = df.apply(\n",
    "        lambda row: row.Province_State if row.fips is None else row.state, axis=1\n",
    "    )\n",
    "    df[\"fips\"] = df.fips.fillna(\"\")\n",
    "\n",
    "    # Only keep certain columns and rename them to match NYT schema\n",
    "    drop_cols = [\"Province_State\", \"Country_Region\"]\n",
    "\n",
    "    df = df.drop(columns=drop_cols)\n",
    "\n",
    "    return df"
   ]
  },
  {
   "cell_type": "code",
   "execution_count": 19,
   "metadata": {},
   "outputs": [
    {
     "name": "stderr",
     "output_type": "stream",
     "text": [
      "/opt/conda/lib/python3.7/site-packages/pandas/core/frame.py:4025: SettingWithCopyWarning: \n",
      "A value is trying to be set on a copy of a slice from a DataFrame\n",
      "\n",
      "See the caveats in the documentation: http://pandas.pydata.org/pandas-docs/stable/indexing.html#indexing-view-versus-copy\n",
      "  return super(DataFrame, self).rename(**kwargs)\n"
     ]
    }
   ],
   "source": [
    "# Pretend 3/27 is the current date showing for JHU\n",
    "jhu_today = clean_jhu_county(jhu)"
   ]
  },
  {
   "cell_type": "code",
   "execution_count": null,
   "metadata": {},
   "outputs": [],
   "source": [
    "def sort_drop_duplicates(df):\n",
    "    for col in [\"Lat\", \"Lon\"]:\n",
    "        df[col] = df.groupby([\"fips\", \"county\", \"state\"])[col].transform(\"max\")\n",
    "\n",
    "    # Sort columns\n",
    "    col_order = [\n",
    "        \"county\",\n",
    "        \"state\",\n",
    "        \"fips\",\n",
    "        \"date\",\n",
    "        \"Lat\",\n",
    "        \"Lon\",\n",
    "        \"cases\",\n",
    "        \"deaths\",\n",
    "        \"incident_rate\",\n",
    "        \"people_tested\",\n",
    "    ]\n",
    "\n",
    "    df = df.reindex(columns=col_order).sort_values(\n",
    "        [\"state\", \"county\", \"fips\", \"date\", \"cases\"]\n",
    "    )\n",
    "\n",
    "    # Set data types for cases and deaths? Seems ok for now....\n",
    "    for col in [\"incident_rate\", \"people_tested\"]:\n",
    "        df[col] = df[col].astype(float)\n",
    "\n",
    "    # Drop duplicates\n",
    "    # Either: (1) values are updated throughout the day, or\n",
    "    # (2) slight discrepancies between NYT and JHU.\n",
    "    # Regardless, take the max value for cases and deaths for each date.\n",
    "    group_cols = [\"state\", \"county\", \"fips\", \"date\"]\n",
    "    for col in [\"cases\", \"deaths\"]:\n",
    "        df[col] = df.groupby(group_cols).transform(\"max\")\n",
    "\n",
    "    df = df.drop_duplicates(subset=group_cols)\n",
    "\n",
    "    return df"
   ]
  },
  {
   "cell_type": "code",
   "execution_count": null,
   "metadata": {},
   "outputs": [],
   "source": [
    "jhu_today = sort_drop_duplicates(jhu_today)"
   ]
  },
  {
   "cell_type": "code",
   "execution_count": null,
   "metadata": {},
   "outputs": [],
   "source": [
    "# Append everything just once -- should this step happen?\n",
    "us_county = county.append(jhu_today, sort=False)\n",
    "\n",
    "# Save as temporary file?"
   ]
  },
  {
   "cell_type": "code",
   "execution_count": 21,
   "metadata": {},
   "outputs": [],
   "source": [
    "# Now it's ready to be upserted\n",
    "# Also, keep Ian's localize then UTC timezone stuff"
   ]
  }
 ],
 "metadata": {
  "kernelspec": {
   "display_name": "Python 3",
   "language": "python",
   "name": "python3"
  },
  "language_info": {
   "codemirror_mode": {
    "name": "ipython",
    "version": 3
   },
   "file_extension": ".py",
   "mimetype": "text/x-python",
   "name": "python",
   "nbconvert_exporter": "python",
   "pygments_lexer": "ipython3",
   "version": "3.7.6"
  }
 },
 "nbformat": 4,
 "nbformat_minor": 4
}
